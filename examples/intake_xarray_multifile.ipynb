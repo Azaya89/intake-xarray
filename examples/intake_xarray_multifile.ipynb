{
 "cells": [
  {
   "cell_type": "markdown",
   "metadata": {},
   "source": [
    "## Landsat data loading\n",
    "\n",
    "There is a general file storage pattern of encoding meaningful information in filenames or directory names. Most recently we have encountered this when working with landsat data. These data are stored in tif files where each file represents one band. The number of the band is meaningful because it specifies the spectrum that is covered.\n"
   ]
  },
  {
   "cell_type": "code",
   "execution_count": 1,
   "metadata": {},
   "outputs": [
    {
     "data": {
      "text/plain": [
       "['l5', 'l5_proposed']"
      ]
     },
     "execution_count": 1,
     "metadata": {},
     "output_type": "execute_result"
    }
   ],
   "source": [
    "import intake\n",
    "cat = intake.open_catalog('catalog.yml')\n",
    "list(cat)"
   ]
  },
  {
   "cell_type": "markdown",
   "metadata": {},
   "source": [
    "In this catalog 'l5' is setup as a schema on current master and 'l5_proposed' lays out a new way of defining a schema."
   ]
  },
  {
   "cell_type": "markdown",
   "metadata": {},
   "source": [
    "## Master\n",
    "\n",
    "Note that the band coordinates is just a list of 1s. From the files we can see that what we actually want is [1, 2, 3, 4, 5, 7] but since the data are already concatenated, we have no way of knowing which band is which."
   ]
  },
  {
   "cell_type": "code",
   "execution_count": 2,
   "metadata": {},
   "outputs": [
    {
     "data": {
      "text/plain": [
       "<xarray.DataArray (band: 6, y: 7241, x: 7961)>\n",
       "dask.array<shape=(6, 7241, 7961), dtype=int16, chunksize=(1, 256, 256)>\n",
       "Coordinates:\n",
       "  * y        (y) float64 4.414e+06 4.414e+06 4.414e+06 ... 4.197e+06 4.197e+06\n",
       "  * x        (x) float64 2.424e+05 2.424e+05 2.425e+05 ... 4.812e+05 4.812e+05\n",
       "  * band     (band) int64 1 1 1 1 1 1\n",
       "Attributes:\n",
       "    transform:   (30.0, 0.0, 242385.0, 0.0, -30.0, 4414215.0)\n",
       "    crs:         +init=epsg:32611\n",
       "    res:         (30.0, 30.0)\n",
       "    is_tiled:    0\n",
       "    nodatavals:  (-9999.0,)"
      ]
     },
     "execution_count": 2,
     "metadata": {},
     "output_type": "execute_result"
    }
   ],
   "source": [
    "cat.l5.read_chunked()"
   ]
  },
  {
   "cell_type": "markdown",
   "metadata": {},
   "source": [
    "### Some setup \n",
    "I don't quite have this working with cache yet, so to make this example work: copy the cached files to a new dir in the example dir called data."
   ]
  },
  {
   "cell_type": "code",
   "execution_count": 3,
   "metadata": {},
   "outputs": [
    {
     "name": "stdout",
     "output_type": "stream",
     "text": [
      "LT05_L1TP_042033_19881022_20161001_01_T1_sr_band1.tif\n",
      "LT05_L1TP_042033_19881022_20161001_01_T1_sr_band2.tif\n",
      "LT05_L1TP_042033_19881022_20161001_01_T1_sr_band3.tif\n",
      "LT05_L1TP_042033_19881022_20161001_01_T1_sr_band4.tif\n",
      "LT05_L1TP_042033_19881022_20161001_01_T1_sr_band5.tif\n",
      "LT05_L1TP_042033_19881022_20161001_01_T1_sr_band7.tif\n"
     ]
    }
   ],
   "source": [
    "ls ~/.intake/cache/0088b75722009b0a583f65974c60bd87/"
   ]
  },
  {
   "cell_type": "code",
   "execution_count": 4,
   "metadata": {},
   "outputs": [],
   "source": [
    "!mkdir data"
   ]
  },
  {
   "cell_type": "code",
   "execution_count": 5,
   "metadata": {},
   "outputs": [],
   "source": [
    "!cp ~/.intake/cache/0088b75722009b0a583f65974c60bd87/* ./data"
   ]
  },
  {
   "cell_type": "markdown",
   "metadata": {},
   "source": [
    "## Proposal\n",
    "In this implementation an arbitrary number of fields can be specified using python format notation. These fields get added to the xarray object as coordinates with the same dimension that we are concating on. Coordinates are just sets of labels along a particular dimension so there can be many coordinates along the same dimension. By making the file fields coordinates rather than attributes, we allow for each file to have a different value. "
   ]
  },
  {
   "cell_type": "code",
   "execution_count": 6,
   "metadata": {},
   "outputs": [
    {
     "data": {
      "text/plain": [
       "<xarray.DataArray (band: 6, y: 7241, x: 7961)>\n",
       "dask.array<shape=(6, 7241, 7961), dtype=int16, chunksize=(1, 256, 256)>\n",
       "Coordinates:\n",
       "  * y           (y) float64 4.414e+06 4.414e+06 ... 4.197e+06 4.197e+06\n",
       "  * x           (x) float64 2.424e+05 2.424e+05 ... 4.812e+05 4.812e+05\n",
       "  * band        (band) object '1' '2' '3' '4' '5' '7'\n",
       "    end_date    (band) <U8 '20161001' '20161001' ... '20161001' '20161001'\n",
       "    start_date  (band) <U8 '19881022' '19881022' ... '19881022' '19881022'\n",
       "Attributes:\n",
       "    transform:   (30.0, 0.0, 242385.0, 0.0, -30.0, 4414215.0)\n",
       "    crs:         +init=epsg:32611\n",
       "    res:         (30.0, 30.0)\n",
       "    is_tiled:    0\n",
       "    nodatavals:  (-9999.0,)"
      ]
     },
     "execution_count": 6,
     "metadata": {},
     "output_type": "execute_result"
    }
   ],
   "source": [
    "cat.l5_proposed.read_chunked()"
   ]
  }
 ],
 "metadata": {
  "kernelspec": {
   "display_name": "Python 3",
   "language": "python",
   "name": "python3"
  },
  "language_info": {
   "codemirror_mode": {
    "name": "ipython",
    "version": 3
   },
   "file_extension": ".py",
   "mimetype": "text/x-python",
   "name": "python",
   "nbconvert_exporter": "python",
   "pygments_lexer": "ipython3",
   "version": "3.6.6"
  }
 },
 "nbformat": 4,
 "nbformat_minor": 2
}
