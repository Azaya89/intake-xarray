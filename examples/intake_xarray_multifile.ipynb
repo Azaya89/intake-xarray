{
 "cells": [
  {
   "cell_type": "markdown",
   "metadata": {},
   "source": [
    "## Landsat data loading\n",
    "\n",
    "There is a general file storage pattern of encoding meaningful information in filenames or directory names. Most recently we have encountered this when working with landsat data. These data are stored in tif files where each file represents one band. The number of the band is meaningful because it specifies the spectrum that is covered.\n"
   ]
  },
  {
   "cell_type": "code",
   "execution_count": null,
   "metadata": {},
   "outputs": [],
   "source": [
    "import intake\n",
    "cat = intake.open_catalog('catalog.yml')\n",
    "list(cat)"
   ]
  },
  {
   "cell_type": "markdown",
   "metadata": {},
   "source": [
    "In this catalog 'l5' is setup as a schema on current master and 'l5_proposed' lays out a new way of defining a schema."
   ]
  },
  {
   "cell_type": "markdown",
   "metadata": {},
   "source": [
    "## Master\n",
    "\n",
    "`l5` is an example using glob notation to iterate over files with similar names to get all the bands"
   ]
  },
  {
   "cell_type": "code",
   "execution_count": null,
   "metadata": {},
   "outputs": [],
   "source": [
    "xa = cat.l5.read_chunked()\n",
    "xa"
   ]
  },
  {
   "cell_type": "markdown",
   "metadata": {},
   "source": [
    "Note that the band coordinates is just a list of 1s. From the files we can see that what we actually want is [1, 2, 3, 4, 5, 7]."
   ]
  },
  {
   "cell_type": "code",
   "execution_count": null,
   "metadata": {},
   "outputs": [],
   "source": [
    "ls ~/.intake/cache/0088b75722009b0a583f65974c60bd87/"
   ]
  },
  {
   "cell_type": "markdown",
   "metadata": {},
   "source": [
    "If glob order were guaranteed, then we could set coords like this:"
   ]
  },
  {
   "cell_type": "code",
   "execution_count": null,
   "metadata": {},
   "outputs": [],
   "source": [
    "import xarray as xr\n",
    "xa.assign_coords(**{'band': xr.DataArray([1, 2, 3, 4, 5, 7], dims=['band'])})"
   ]
  },
  {
   "cell_type": "markdown",
   "metadata": {},
   "source": [
    "But since the glob order isn't guaranteed we have no way of knowing that we are naming the bands correctly. In order to guarantee that we are actually setting the bands correclty, we'd have to write a separate catalog entry for each file."
   ]
  },
  {
   "cell_type": "markdown",
   "metadata": {},
   "source": [
    "## Proposal\n",
    "In this implementation an arbitrary number of fields can be specified using python format notation. These fields get added to the xarray object as coordinates with the same dimension that we are concating on. Coordinates are just sets of labels along a particular dimension so there can be many coordinates along the same dimension. By making the file fields coordinates rather than attributes, we allow for each file to have a different value. "
   ]
  },
  {
   "cell_type": "code",
   "execution_count": null,
   "metadata": {},
   "outputs": [],
   "source": [
    "l5_proposed = cat.l5_proposed\n",
    "xa = l5_proposed.read_chunked()\n",
    "xa"
   ]
  },
  {
   "cell_type": "markdown",
   "metadata": {},
   "source": [
    "This means that we can select just one band using the `xarray.DataArray.sel` method. "
   ]
  },
  {
   "cell_type": "code",
   "execution_count": null,
   "metadata": {},
   "outputs": [],
   "source": [
    "xa.sel(band=7)"
   ]
  },
  {
   "cell_type": "markdown",
   "metadata": {},
   "source": [
    "### Impact on visualizations\n",
    "\n",
    "If only filenames were available we wouldn't be able to declare the plot in the catalog, but since we do the parsing on load, we can use declarative plotting in the catalog "
   ]
  },
  {
   "cell_type": "code",
   "execution_count": null,
   "metadata": {},
   "outputs": [],
   "source": [
    "import hvplot.intake\n",
    "intake.output_notebook()\n",
    "\n",
    "l5_proposed.plot.band_image()"
   ]
  }
 ],
 "metadata": {
  "language_info": {
   "name": "python",
   "pygments_lexer": "ipython3"
  }
 },
 "nbformat": 4,
 "nbformat_minor": 2
}
